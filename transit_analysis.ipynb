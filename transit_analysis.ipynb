{
 "cells": [
  {
   "cell_type": "code",
   "execution_count": 2,
   "id": "e8033ff9",
   "metadata": {},
   "outputs": [],
   "source": [
    "import pandas as pd\n",
    "import matplotlib.pyplot as plt\n",
    "import seaborn as sns\n",
    "import numpy as np\n",
    "from datetime import datetime"
   ]
  },
  {
   "cell_type": "code",
   "execution_count": 3,
   "id": "4f6b607d",
   "metadata": {},
   "outputs": [
    {
     "name": "stdout",
     "output_type": "stream",
     "text": [
      "Loading transit performance data...\n",
      "Loaded 99 shipment records\n",
      "\n"
     ]
    }
   ],
   "source": [
    "# LOAD DATA\n",
    "\n",
    "print(\"Loading transit performance data...\")\n",
    "detailed_df = pd.read_csv('transit_performance_detailed.csv')\n",
    "print(f\"Loaded {len(detailed_df)} shipment records\")\n",
    "print()\n"
   ]
  },
  {
   "cell_type": "code",
   "execution_count": 4,
   "id": "b47b529d",
   "metadata": {},
   "outputs": [
    {
     "name": "stdout",
     "output_type": "stream",
     "text": [
      "Cleaning data for analysis...\n",
      "After cleaning: 99 shipments\n",
      "Removed 0 incomplete records\n",
      "\n"
     ]
    }
   ],
   "source": [
    "# 1. DATA CLEANING FOR VISUALIZATION\n",
    "\n",
    "print(\"Cleaning data for analysis...\")\n",
    "# Drop rows where total_transit_hours is NaN or zero\n",
    "df_clean = detailed_df.dropna(subset=['total_transit_hours']).copy()\n",
    "df_clean = df_clean[df_clean['total_transit_hours'] > 0]\n",
    "\n",
    "print(f\"After cleaning: {len(df_clean)} shipments\")\n",
    "print(f\"Removed {len(detailed_df) - len(df_clean)} incomplete records\")\n",
    "print()"
   ]
  },
  {
   "cell_type": "code",
   "execution_count": 5,
   "id": "4624a8f2",
   "metadata": {},
   "outputs": [
    {
     "name": "stdout",
     "output_type": "stream",
     "text": [
      "Generating visualizations...\n",
      "--------------------------------------------------------------------------------\n"
     ]
    }
   ],
   "source": [
    "# 2. CREATE VISUALIZATIONS\n",
    "\n",
    "# Set consistent style\n",
    "sns.set_style(\"whitegrid\")\n",
    "sns.set_palette(\"husl\")\n",
    "plt.rcParams['figure.figsize'] = (12, 7)\n",
    "plt.rcParams['font.size'] = 10\n",
    "\n",
    "print(\"Generating visualizations...\")\n",
    "print(\"-\" * 80)"
   ]
  },
  {
   "cell_type": "code",
   "execution_count": 6,
   "id": "c8f05bf1",
   "metadata": {},
   "outputs": [
    {
     "name": "stdout",
     "output_type": "stream",
     "text": [
      "Creating: Transit Time Distribution...\n",
      "✓ Saved: transit_time_distribution.png\n"
     ]
    }
   ],
   "source": [
    "# --- 2.1. Distribution of Total Transit Time ---\n",
    "print(\"Creating: Transit Time Distribution...\")\n",
    "plt.figure(figsize=(12, 7))\n",
    "sns.histplot(df_clean['total_transit_hours'], bins=25, kde=True, color='#3498db', edgecolor='black')\n",
    "plt.axvline(df_clean['total_transit_hours'].mean(), color='red', linestyle='--', \n",
    "            linewidth=2, label=f'Mean: {df_clean[\"total_transit_hours\"].mean():.1f}h')\n",
    "plt.axvline(df_clean['total_transit_hours'].median(), color='green', linestyle='--', \n",
    "            linewidth=2, label=f'Median: {df_clean[\"total_transit_hours\"].median():.1f}h')\n",
    "plt.title('Distribution of Total Transit Time (Hours)', fontsize=16, fontweight='bold')\n",
    "plt.xlabel('Total Transit Hours', fontsize=12)\n",
    "plt.ylabel('Number of Shipments', fontsize=12)\n",
    "plt.legend(fontsize=11)\n",
    "plt.grid(True, alpha=0.3)\n",
    "plt.tight_layout()\n",
    "plt.savefig('transit_time_distribution.png', dpi=300, bbox_inches='tight')\n",
    "plt.close()\n",
    "print(\"✓ Saved: transit_time_distribution.png\")\n"
   ]
  },
  {
   "cell_type": "code",
   "execution_count": 7,
   "id": "1f14f3bb",
   "metadata": {},
   "outputs": [
    {
     "name": "stdout",
     "output_type": "stream",
     "text": [
      "Creating: Transit Hours by Origin State...\n",
      "✓ Saved: avg_transit_time_by_state.png\n"
     ]
    }
   ],
   "source": [
    "# --- 2.2. Average Transit Hours by Origin State ---\n",
    "print(\"Creating: Transit Hours by Origin State...\")\n",
    "state_performance = df_clean.groupby('origin_state').agg({\n",
    "    'total_transit_hours': 'mean',\n",
    "    'tracking_number': 'count'\n",
    "}).reset_index()\n",
    "state_performance.columns = ['origin_state', 'avg_transit_hours', 'shipment_count']\n",
    "state_performance = state_performance.sort_values(by='avg_transit_hours', ascending=False)\n",
    "\n",
    "plt.figure(figsize=(12, 7))\n",
    "bars = plt.bar(state_performance['origin_state'], state_performance['avg_transit_hours'], \n",
    "               color='#2ecc71', edgecolor='black', alpha=0.8)\n",
    "# Add shipment counts on top of bars\n",
    "for i, (bar, count) in enumerate(zip(bars, state_performance['shipment_count'])):\n",
    "    height = bar.get_height()\n",
    "    plt.text(bar.get_x() + bar.get_width()/2., height,\n",
    "             f'n={int(count)}', ha='center', va='bottom', fontsize=9)\n",
    "plt.title('Average Transit Hours by Origin State', fontsize=16, fontweight='bold')\n",
    "plt.xlabel('Origin State', fontsize=12)\n",
    "plt.ylabel('Average Transit Hours', fontsize=12)\n",
    "plt.xticks(rotation=45, ha='right')\n",
    "plt.grid(True, alpha=0.3, axis='y')\n",
    "plt.tight_layout()\n",
    "plt.savefig('avg_transit_time_by_state.png', dpi=300, bbox_inches='tight')\n",
    "plt.close()\n",
    "print(\"✓ Saved: avg_transit_time_by_state.png\")\n"
   ]
  },
  {
   "cell_type": "code",
   "execution_count": 9,
   "id": "02b15340",
   "metadata": {},
   "outputs": [
    {
     "name": "stdout",
     "output_type": "stream",
     "text": [
      "Creating: Facility Touchpoints Distribution...\n",
      "✓ Saved: facility_touchpoints_distribution.png\n"
     ]
    }
   ],
   "source": [
    "# --- 2.3. Facility Touchpoints Distribution ---\n",
    "print(\"Creating: Facility Touchpoints Distribution...\")\n",
    "facility_dist = df_clean['num_facilities_visited'].value_counts().sort_index().reset_index()\n",
    "facility_dist.columns = ['num_facilities', 'count']\n",
    "\n",
    "plt.figure(figsize=(12, 7))\n",
    "bars = plt.bar(facility_dist['num_facilities'], facility_dist['count'], \n",
    "               color='#e74c3c', edgecolor='black', alpha=0.8)\n",
    "for bar in bars:\n",
    "    height = bar.get_height()\n",
    "    plt.text(bar.get_x() + bar.get_width()/2., height,\n",
    "             f'{int(height)}', ha='center', va='bottom', fontsize=10)\n",
    "plt.title('Distribution of Facility Touchpoints per Shipment', fontsize=16, fontweight='bold')\n",
    "plt.xlabel('Number of Unique Facilities Visited', fontsize=12)\n",
    "plt.ylabel('Number of Shipments', fontsize=12)\n",
    "plt.grid(True, alpha=0.3, axis='y')\n",
    "plt.tight_layout()\n",
    "plt.savefig('facility_touchpoints_distribution.png', dpi=300, bbox_inches='tight')\n",
    "plt.close()\n",
    "print(\"✓ Saved: facility_touchpoints_distribution.png\")"
   ]
  },
  {
   "cell_type": "code",
   "execution_count": 11,
   "id": "253feddc",
   "metadata": {},
   "outputs": [
    {
     "name": "stdout",
     "output_type": "stream",
     "text": [
      "Creating: Service Type Comparison...\n",
      "⚠ Skipped: Only one service type found in dataset\n"
     ]
    }
   ],
   "source": [
    "# --- 2.4. Express vs Standard Service Performance ---\n",
    "print(\"Creating: Service Type Comparison...\")\n",
    "if 'is_express_service' in df_clean.columns:\n",
    "    service_comparison = df_clean.groupby('is_express_service').agg({\n",
    "        'total_transit_hours': ['mean', 'median'],\n",
    "        'num_facilities_visited': 'mean',\n",
    "        'first_attempt_delivery': lambda x: (x.sum() / len(x)) * 100,\n",
    "        'tracking_number': 'count'\n",
    "    }).round(2)\n",
    "    \n",
    "    # Check if we have both service types\n",
    "    has_both = (False in service_comparison.index and True in service_comparison.index)\n",
    "    \n",
    "    if has_both:\n",
    "        fig, axes = plt.subplots(1, 2, figsize=(14, 6))\n",
    "        \n",
    "        # Transit time comparison\n",
    "        service_labels = ['Standard', 'Express']\n",
    "        transit_means = [service_comparison.loc[False, ('total_transit_hours', 'mean')],\n",
    "                         service_comparison.loc[True, ('total_transit_hours', 'mean')]]\n",
    "        \n",
    "        axes[0].bar(service_labels, transit_means, color=['#95a5a6', '#f39c12'], \n",
    "                    edgecolor='black', alpha=0.8)\n",
    "        axes[0].set_title('Avg Transit Time by Service Type', fontsize=13, fontweight='bold')\n",
    "        axes[0].set_ylabel('Average Transit Hours', fontsize=11)\n",
    "        axes[0].grid(True, alpha=0.3, axis='y')\n",
    "        \n",
    "        # First attempt delivery comparison\n",
    "        first_attempt_pct = [service_comparison.loc[False, ('first_attempt_delivery', '<lambda>')],\n",
    "                            service_comparison.loc[True, ('first_attempt_delivery', '<lambda>')]]\n",
    "        \n",
    "        axes[1].bar(service_labels, first_attempt_pct, color=['#95a5a6', '#f39c12'], \n",
    "                    edgecolor='black', alpha=0.8)\n",
    "        axes[1].set_title('First Attempt Delivery Rate', fontsize=13, fontweight='bold')\n",
    "        axes[1].set_ylabel('Success Rate (%)', fontsize=11)\n",
    "        axes[1].set_ylim([0, 100])\n",
    "        axes[1].grid(True, alpha=0.3, axis='y')\n",
    "        \n",
    "        plt.tight_layout()\n",
    "        plt.savefig('service_type_comparison.png', dpi=300, bbox_inches='tight')\n",
    "        plt.close()\n",
    "        print(\"✓ Saved: service_type_comparison.png\")\n",
    "    else:\n",
    "        print(\"⚠ Skipped: Only one service type found in dataset\")\n"
   ]
  },
  {
   "cell_type": "code",
   "execution_count": 12,
   "id": "6db25092",
   "metadata": {},
   "outputs": [
    {
     "name": "stdout",
     "output_type": "stream",
     "text": [
      "Creating: Transit Time vs Facilities Correlation...\n",
      "✓ Saved: transit_time_vs_facilities.png\n"
     ]
    }
   ],
   "source": [
    "# --- 2.5. Transit Time vs Facilities Scatter Plot ---\n",
    "print(\"Creating: Transit Time vs Facilities Correlation...\")\n",
    "plt.figure(figsize=(12, 7))\n",
    "scatter = plt.scatter(df_clean['num_facilities_visited'], \n",
    "                     df_clean['total_transit_hours'],\n",
    "                     c=df_clean['package_weight_kg'], \n",
    "                     cmap='YlOrRd', \n",
    "                     alpha=0.6, \n",
    "                     s=100,\n",
    "                     edgecolors='black',\n",
    "                     linewidth=0.5)\n",
    "plt.colorbar(scatter, label='Package Weight (kg)')\n",
    "plt.title('Transit Time vs Number of Facilities Visited', fontsize=16, fontweight='bold')\n",
    "plt.xlabel('Number of Facilities Visited', fontsize=12)\n",
    "plt.ylabel('Total Transit Hours', fontsize=12)\n",
    "plt.grid(True, alpha=0.3)\n",
    "\n",
    "# Add correlation coefficient\n",
    "correlation = df_clean[['num_facilities_visited', 'total_transit_hours']].corr().iloc[0, 1]\n",
    "plt.text(0.05, 0.95, f'Correlation: {correlation:.3f}', \n",
    "         transform=plt.gca().transAxes, \n",
    "         bbox=dict(boxstyle='round', facecolor='wheat', alpha=0.8),\n",
    "         fontsize=11, verticalalignment='top')\n",
    "\n",
    "plt.tight_layout()\n",
    "plt.savefig('transit_time_vs_facilities.png', dpi=300, bbox_inches='tight')\n",
    "plt.close()\n",
    "print(\"✓ Saved: transit_time_vs_facilities.png\")\n"
   ]
  },
  {
   "cell_type": "code",
   "execution_count": 14,
   "id": "1a1cb8fb",
   "metadata": {},
   "outputs": [
    {
     "name": "stdout",
     "output_type": "stream",
     "text": [
      "Creating: Delivery Performance Dashboard...\n",
      "✓ Saved: delivery_performance_dashboard.png\n",
      "\n"
     ]
    }
   ],
   "source": [
    "# --- 2.6. Delivery Performance Metrics ---\n",
    "print(\"Creating: Delivery Performance Dashboard...\")\n",
    "fig, axes = plt.subplots(2, 2, figsize=(14, 10))\n",
    "\n",
    "# First attempt delivery rate\n",
    "first_attempt_rate = (df_clean['first_attempt_delivery'].sum() / len(df_clean)) * 100\n",
    "axes[0, 0].bar(['First Attempt', 'Multiple Attempts'], \n",
    "               [first_attempt_rate, 100 - first_attempt_rate],\n",
    "               color=['#27ae60', '#e67e22'], edgecolor='black', alpha=0.8)\n",
    "axes[0, 0].set_title('Delivery Success Rate', fontsize=13, fontweight='bold')\n",
    "axes[0, 0].set_ylabel('Percentage (%)', fontsize=11)\n",
    "axes[0, 0].set_ylim([0, 100])\n",
    "axes[0, 0].grid(True, alpha=0.3, axis='y')\n",
    "\n",
    "# Out for delivery attempts distribution\n",
    "ofd_dist = df_clean['num_out_for_delivery_attempts'].value_counts().sort_index()\n",
    "axes[0, 1].bar(ofd_dist.index, ofd_dist.values, color='#9b59b6', \n",
    "               edgecolor='black', alpha=0.8)\n",
    "axes[0, 1].set_title('Out-for-Delivery Attempts', fontsize=13, fontweight='bold')\n",
    "axes[0, 1].set_xlabel('Number of Attempts', fontsize=11)\n",
    "axes[0, 1].set_ylabel('Number of Shipments', fontsize=11)\n",
    "axes[0, 1].grid(True, alpha=0.3, axis='y')\n",
    "\n",
    "# Package weight distribution\n",
    "axes[1, 0].hist(df_clean['package_weight_kg'], bins=20, color='#16a085', \n",
    "                edgecolor='black', alpha=0.8)\n",
    "axes[1, 0].set_title('Package Weight Distribution', fontsize=13, fontweight='bold')\n",
    "axes[1, 0].set_xlabel('Weight (kg)', fontsize=11)\n",
    "axes[1, 0].set_ylabel('Number of Shipments', fontsize=11)\n",
    "axes[1, 0].grid(True, alpha=0.3, axis='y')\n",
    "\n",
    "# Transit efficiency (hours per facility)\n",
    "axes[1, 1].hist(df_clean['avg_hours_per_facility'], bins=20, color='#c0392b', \n",
    "                edgecolor='black', alpha=0.8)\n",
    "axes[1, 1].set_title('Transit Efficiency (Hours per Facility)', fontsize=13, fontweight='bold')\n",
    "axes[1, 1].set_xlabel('Average Hours per Facility', fontsize=11)\n",
    "axes[1, 1].set_ylabel('Number of Shipments', fontsize=11)\n",
    "axes[1, 1].grid(True, alpha=0.3, axis='y')\n",
    "\n",
    "plt.tight_layout()\n",
    "plt.savefig('delivery_performance_dashboard.png', dpi=300, bbox_inches='tight')\n",
    "plt.close()\n",
    "print(\"✓ Saved: delivery_performance_dashboard.png\")\n",
    "\n",
    "print()\n",
    "\n"
   ]
  },
  {
   "cell_type": "code",
   "execution_count": 26,
   "id": "b684f01a",
   "metadata": {},
   "outputs": [
    {
     "name": "stdout",
     "output_type": "stream",
     "text": [
      "ADVANCED ANALYSIS: PERFORMANCE OUTLIERS\n",
      "\n",
      " TOP 5 WORST PERFORMERS (Longest Transit Time):\n",
      " tracking_number origin_city  destination_city  total_transit_hours  num_facilities_visited  first_attempt_delivery        service_type\n",
      "    391198356290   Bangalore         Thanjavur               545.53                       3                    True FEDEX_EXPRESS_SAVER\n",
      "    390870220230   Bangalore         Hyderabad               223.98                       3                    True FEDEX_EXPRESS_SAVER\n",
      "    281095533884         Goa           Chennai               223.80                       2                    True FEDEX_EXPRESS_SAVER\n",
      "    390767871261   Bangalore          Gurugram               222.04                       2                    True FEDEX_EXPRESS_SAVER\n",
      "    390807999654   Bangalore Bokaro steel City               216.39                       2                    True FEDEX_EXPRESS_SAVER\n",
      "\n"
     ]
    }
   ],
   "source": [
    "# 3. ADVANCED ANALYSIS: OUTLIER DETECTION\n",
    "print(\"ADVANCED ANALYSIS: PERFORMANCE OUTLIERS\")\n",
    "print()\n",
    "\n",
    "# --- 3.1. Top 5 Worst Performers (Longest Transit Time) ---\n",
    "print(\" TOP 5 WORST PERFORMERS (Longest Transit Time):\")\n",
    "worst_performers = df_clean.nlargest(5, 'total_transit_hours')\n",
    "worst_summary = worst_performers[[\n",
    "    'tracking_number', \n",
    "    'origin_city', \n",
    "    'destination_city', \n",
    "    'total_transit_hours', \n",
    "    'num_facilities_visited',\n",
    "    'first_attempt_delivery',\n",
    "    'service_type'\n",
    "]]\n",
    "print(worst_summary.to_string(index=False))\n",
    "print()"
   ]
  },
  {
   "cell_type": "code",
   "execution_count": 27,
   "id": "abfe947b",
   "metadata": {},
   "outputs": [
    {
     "name": "stdout",
     "output_type": "stream",
     "text": [
      " TOP 5 BEST PERFORMERS (Shortest Transit Time):\n",
      " tracking_number origin_city destination_city  total_transit_hours  num_facilities_visited  first_attempt_delivery        service_type\n",
      "    390871801797   Bangalore        Bengaluru                20.60                       3                    True FEDEX_EXPRESS_SAVER\n",
      "    390950569057   Bangalore        Bengaluru                21.02                       3                    True FEDEX_EXPRESS_SAVER\n",
      "    390902329207   Bangalore        Bengaluru                22.60                       3                    True FEDEX_EXPRESS_SAVER\n",
      "    390902302347   Bangalore        Bangalore                22.64                       3                    True FEDEX_EXPRESS_SAVER\n",
      "    390871742485   Bangalore           Mysore                24.10                       3                    True FEDEX_EXPRESS_SAVER\n",
      "\n"
     ]
    }
   ],
   "source": [
    "# --- 3.2. Top 5 Best Performers (Shortest Transit Time) ---\n",
    "print(\" TOP 5 BEST PERFORMERS (Shortest Transit Time):\")\n",
    "best_performers = df_clean.nsmallest(5, 'total_transit_hours')\n",
    "best_summary = best_performers[[\n",
    "    'tracking_number', \n",
    "    'origin_city', \n",
    "    'destination_city', \n",
    "    'total_transit_hours', \n",
    "    'num_facilities_visited',\n",
    "    'first_attempt_delivery',\n",
    "    'service_type'\n",
    "]]\n",
    "print(best_summary.to_string(index=False))\n",
    "print()\n"
   ]
  },
  {
   "cell_type": "code",
   "execution_count": 28,
   "id": "59d21fb4",
   "metadata": {},
   "outputs": [
    {
     "name": "stdout",
     "output_type": "stream",
     "text": [
      " STATISTICAL OUTLIERS (IQR Method):\n",
      "Total outliers detected: 5 (5.1%)\n",
      "Lower bound: -9.35 hours\n",
      "Upper bound: 203.59 hours\n",
      "\n",
      "Sample of outlier shipments:\n",
      " tracking_number  total_transit_hours  num_facilities_visited origin_city  destination_city\n",
      "    390807999654               216.39                       2   Bangalore Bokaro steel City\n",
      "    390767871261               222.04                       2   Bangalore          Gurugram\n",
      "    390870220230               223.98                       3   Bangalore         Hyderabad\n",
      "    391198356290               545.53                       3   Bangalore         Thanjavur\n",
      "    281095533884               223.80                       2         Goa           Chennai\n",
      "\n"
     ]
    }
   ],
   "source": [
    "# --- 3.3. Statistical Outliers (Using IQR Method) ---\n",
    "print(\" STATISTICAL OUTLIERS (IQR Method):\")\n",
    "Q1 = df_clean['total_transit_hours'].quantile(0.25)\n",
    "Q3 = df_clean['total_transit_hours'].quantile(0.75)\n",
    "IQR = Q3 - Q1\n",
    "lower_bound = Q1 - 1.5 * IQR\n",
    "upper_bound = Q3 + 1.5 * IQR\n",
    "\n",
    "outliers = df_clean[(df_clean['total_transit_hours'] < lower_bound) | \n",
    "                    (df_clean['total_transit_hours'] > upper_bound)]\n",
    "\n",
    "print(f\"Total outliers detected: {len(outliers)} ({len(outliers)/len(df_clean)*100:.1f}%)\")\n",
    "print(f\"Lower bound: {lower_bound:.2f} hours\")\n",
    "print(f\"Upper bound: {upper_bound:.2f} hours\")\n",
    "print()\n",
    "\n",
    "if len(outliers) > 0:\n",
    "    print(\"Sample of outlier shipments:\")\n",
    "    print(outliers[['tracking_number', 'total_transit_hours', 'num_facilities_visited', \n",
    "                    'origin_city', 'destination_city']].head(10).to_string(index=False))\n",
    "print()\n"
   ]
  },
  {
   "cell_type": "code",
   "execution_count": 29,
   "id": "8d0811c0",
   "metadata": {},
   "outputs": [
    {
     "name": "stdout",
     "output_type": "stream",
     "text": [
      "  ROUTE-SPECIFIC PERFORMANCE:\n",
      "\n",
      "Top 5 Slowest Routes (with 2+ shipments):\n",
      "                       avg_transit_hours  shipment_count  first_attempt_pct\n",
      "route                                                                      \n",
      "Bangalore → Lucknow               172.69               2             100.00\n",
      "Bangalore → Kolkata               159.86               2             100.00\n",
      "Bangalore → Gurugram              158.52               2             100.00\n",
      "Bangalore → Delhi                 116.07               7              85.71\n",
      "Bangalore → New Delhi             106.76               5              80.00\n",
      "\n"
     ]
    }
   ],
   "source": [
    "# --- 3.4. Route-Specific Performance ---\n",
    "print(\"  ROUTE-SPECIFIC PERFORMANCE:\")\n",
    "df_clean['route'] = df_clean['origin_city'] + ' → ' + df_clean['destination_city']\n",
    "route_performance = df_clean.groupby('route').agg({\n",
    "    'total_transit_hours': ['mean', 'count'],\n",
    "    'first_attempt_delivery': lambda x: (x.sum() / len(x)) * 100\n",
    "}).round(2)\n",
    "route_performance.columns = ['avg_transit_hours', 'shipment_count', 'first_attempt_pct']\n",
    "route_performance = route_performance[route_performance['shipment_count'] >= 2]\n",
    "route_performance = route_performance.sort_values('avg_transit_hours', ascending=False)\n",
    "\n",
    "print(\"\\nTop 5 Slowest Routes (with 2+ shipments):\")\n",
    "print(route_performance.head().to_string())\n",
    "print()"
   ]
  },
  {
   "cell_type": "code",
   "execution_count": 31,
   "id": "79e85e88",
   "metadata": {},
   "outputs": [
    {
     "name": "stdout",
     "output_type": "stream",
     "text": [
      "KEY INSIGHTS & SUMMARY\n",
      "\n",
      "Total Shipments Analyzed: 99\n",
      "Average Transit Time: 100.86 hours\n",
      "Median Transit Time: 97.24 hours\n",
      "Average Facilities per Shipment: 2.83\n",
      "First Attempt Delivery Rate: 84.8%\n",
      "Express Service Shipments: 99 (100.0%)\n",
      "\n",
      "Analysis complete! All visualizations saved.\n",
      "\n",
      "Generated files:\n",
      "  • transit_time_distribution.png\n",
      "  • avg_transit_time_by_state.png\n",
      "  • facility_touchpoints_distribution.png\n",
      "  • service_type_comparison.png\n",
      "  • transit_time_vs_facilities.png\n",
      "  • delivery_performance_dashboard.png\n"
     ]
    }
   ],
   "source": [
    "# 4. SUMMARY STATISTICS\n",
    "\n",
    "print(\"KEY INSIGHTS & SUMMARY\")\n",
    "print()\n",
    "\n",
    "print(f\"Total Shipments Analyzed: {len(df_clean)}\")\n",
    "print(f\"Average Transit Time: {df_clean['total_transit_hours'].mean():.2f} hours\")\n",
    "print(f\"Median Transit Time: {df_clean['total_transit_hours'].median():.2f} hours\")\n",
    "print(f\"Average Facilities per Shipment: {df_clean['num_facilities_visited'].mean():.2f}\")\n",
    "print(f\"First Attempt Delivery Rate: {(df_clean['first_attempt_delivery'].sum()/len(df_clean)*100):.1f}%\")\n",
    "print(f\"Express Service Shipments: {df_clean['is_express_service'].sum()} ({df_clean['is_express_service'].sum()/len(df_clean)*100:.1f}%)\")\n",
    "print()\n",
    "\n",
    "print(\"Analysis complete! All visualizations saved.\")\n",
    "print()\n",
    "print(\"Generated files:\")\n",
    "print(\"  • transit_time_distribution.png\")\n",
    "print(\"  • avg_transit_time_by_state.png\")\n",
    "print(\"  • facility_touchpoints_distribution.png\")\n",
    "print(\"  • service_type_comparison.png\")\n",
    "print(\"  • transit_time_vs_facilities.png\")\n",
    "print(\"  • delivery_performance_dashboard.png\")"
   ]
  },
  {
   "cell_type": "code",
   "execution_count": null,
   "id": "1fbee238",
   "metadata": {},
   "outputs": [],
   "source": []
  }
 ],
 "metadata": {
  "kernelspec": {
   "display_name": ".venv",
   "language": "python",
   "name": "python3"
  },
  "language_info": {
   "codemirror_mode": {
    "name": "ipython",
    "version": 3
   },
   "file_extension": ".py",
   "mimetype": "text/x-python",
   "name": "python",
   "nbconvert_exporter": "python",
   "pygments_lexer": "ipython3",
   "version": "3.11.13"
  }
 },
 "nbformat": 4,
 "nbformat_minor": 5
}
